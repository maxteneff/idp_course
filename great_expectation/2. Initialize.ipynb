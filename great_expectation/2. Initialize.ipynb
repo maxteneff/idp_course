{
 "cells": [
  {
   "cell_type": "code",
   "execution_count": 1,
   "id": "e1cc8519",
   "metadata": {},
   "outputs": [],
   "source": [
    "import great_expectations as ge"
   ]
  },
  {
   "cell_type": "code",
   "execution_count": 4,
   "id": "7cd2c02f",
   "metadata": {},
   "outputs": [
    {
     "name": "stdout",
     "output_type": "stream",
     "text": [
      "total 232\n",
      "-rw-rw-r-- 1 mvbarten mvbarten 22142 Mar 14 17:58 '1. Installation.ipynb'\n",
      "-rw-rw-r-- 1 mvbarten mvbarten 11840 Mar 11 15:57 '2. Initialize.ipynb'\n",
      "-rw-rw-r-- 1 mvbarten mvbarten 12924 Mar 11 16:00 '3. Context.ipynb'\n",
      "-rw-rw-r-- 1 mvbarten mvbarten 49734 Mar 11 16:44 '4. Main Functions.ipynb'\n",
      "-rw-rw-r-- 1 mvbarten mvbarten 64401 Mar 11 15:41 '5. Time Series.ipynb'\n",
      "-rw-rw-r-- 1 mvbarten mvbarten 28025 Mar 11 16:58 '6. PySpark DataFrame.ipynb'\n",
      "-rw-rw-r-- 1 mvbarten mvbarten 18209 Mar 11 15:44  Installation.ipynb\n",
      "-rw-rw-r-- 1 mvbarten mvbarten   663 Mar 11 16:41  saved_suite.json\n",
      "-rw-rw-r-- 1 mvbarten mvbarten   800 Mar 11 15:41  saved_titanic_exp.json\n",
      "drwxrwxr-x 2 mvbarten mvbarten  4096 Mar 11 16:47  spark-warehouse\n",
      "-rw-rw-r-- 1 mvbarten mvbarten   448 Mar 11 16:35  suite\n"
     ]
    }
   ],
   "source": [
    "!ls -l"
   ]
  },
  {
   "cell_type": "code",
   "execution_count": 3,
   "id": "abdec4cc-9d08-4ea5-bd23-0b56ad3668e9",
   "metadata": {},
   "outputs": [],
   "source": [
    "!rm -rf gx"
   ]
  },
  {
   "cell_type": "markdown",
   "id": "dd6c7ca5",
   "metadata": {},
   "source": [
    "## Init Great Expectations storage"
   ]
  },
  {
   "cell_type": "code",
   "execution_count": 5,
   "id": "81c9c966",
   "metadata": {},
   "outputs": [
    {
     "name": "stdout",
     "output_type": "stream",
     "text": [
      "\u001b[36m\n",
      "  ___              _     ___                  _        _   _\n",
      " / __|_ _ ___ __ _| |_  | __|_ ___ __  ___ __| |_ __ _| |_(_)___ _ _  ___\n",
      "| (_ | '_/ -_) _` |  _| | _|\\ \\ / '_ \\/ -_) _|  _/ _` |  _| / _ \\ ' \\(_-<\n",
      " \\___|_| \\___\\__,_|\\__| |___/_\\_\\ .__/\\___\\__|\\__\\__,_|\\__|_\\___/_||_/__/\n",
      "                                |_|\n",
      "             ~ Always know what to expect from your data ~\n",
      "\u001b[0m\n",
      "Let's create a new Data Context to hold your project configuration.\n",
      "\n",
      "Great Expectations will create a new directory with the following structure:\n",
      "\n",
      "    great_expectations\n",
      "    |-- great_expectations.yml\n",
      "    |-- expectations\n",
      "    |-- checkpoints\n",
      "    |-- plugins\n",
      "    |-- .gitignore\n",
      "    |-- uncommitted\n",
      "        |-- config_variables.yml\n",
      "        |-- data_docs\n",
      "        |-- validations\n",
      "\n",
      "OK to proceed? [Y/n]: \n",
      "================================================================================\n",
      "\n",
      "\u001b[36mCongratulations! You are now ready to customize your Great Expectations configuration.\u001b[0m\n",
      "\n",
      "\u001b[36mYou can customize your configuration in many ways. Here are some examples:\u001b[0m\n",
      "\n",
      "  \u001b[36mUse the CLI to:\u001b[0m\n",
      "    - Run `\u001b[32mgreat_expectations datasource new\u001b[0m` to connect to your data.\n",
      "    - Run `\u001b[32mgreat_expectations checkpoint new <checkpoint_name>\u001b[0m` to bundle data with Expectation Suite(s) in a Checkpoint for later re-validation.\n",
      "    - Run `\u001b[32mgreat_expectations suite --help\u001b[0m` to create, edit, list, profile Expectation Suites.\n",
      "    - Run `\u001b[32mgreat_expectations docs --help\u001b[0m` to build and manage Data Docs sites.\n",
      "\n",
      "  \u001b[36mEdit your configuration in great_expectations.yml to:\u001b[0m\n",
      "    - Move Stores to the cloud\n",
      "    - Add Slack notifications, PagerDuty alerts, etc.\n",
      "    - Customize your Data Docs\n",
      "\n",
      "\u001b[36mPlease see our documentation for more configuration options!\u001b[0m\n",
      "\n",
      "\u001b[0m"
     ]
    }
   ],
   "source": [
    "!echo \"y\" | great_expectations init"
   ]
  },
  {
   "cell_type": "code",
   "execution_count": 6,
   "id": "0d6f97c4",
   "metadata": {},
   "outputs": [
    {
     "name": "stdout",
     "output_type": "stream",
     "text": [
      "total 236\n",
      "-rw-rw-r-- 1 mvbarten mvbarten 22142 Mar 14 17:58 '1. Installation.ipynb'\n",
      "-rw-rw-r-- 1 mvbarten mvbarten 11840 Mar 11 15:57 '2. Initialize.ipynb'\n",
      "-rw-rw-r-- 1 mvbarten mvbarten 12924 Mar 11 16:00 '3. Context.ipynb'\n",
      "-rw-rw-r-- 1 mvbarten mvbarten 49734 Mar 11 16:44 '4. Main Functions.ipynb'\n",
      "-rw-rw-r-- 1 mvbarten mvbarten 64401 Mar 11 15:41 '5. Time Series.ipynb'\n",
      "-rw-rw-r-- 1 mvbarten mvbarten 28025 Mar 11 16:58 '6. PySpark DataFrame.ipynb'\n",
      "drwxrwxr-x 7 mvbarten mvbarten  4096 Mar 14 17:59  gx\n",
      "-rw-rw-r-- 1 mvbarten mvbarten 18209 Mar 11 15:44  Installation.ipynb\n",
      "-rw-rw-r-- 1 mvbarten mvbarten   663 Mar 11 16:41  saved_suite.json\n",
      "-rw-rw-r-- 1 mvbarten mvbarten   800 Mar 11 15:41  saved_titanic_exp.json\n",
      "drwxrwxr-x 2 mvbarten mvbarten  4096 Mar 11 16:47  spark-warehouse\n",
      "-rw-rw-r-- 1 mvbarten mvbarten   448 Mar 11 16:35  suite\n"
     ]
    }
   ],
   "source": [
    "!ls -l"
   ]
  },
  {
   "cell_type": "code",
   "execution_count": 7,
   "id": "aba7c623",
   "metadata": {},
   "outputs": [
    {
     "name": "stdout",
     "output_type": "stream",
     "text": [
      "total 28\n",
      "drwxrwxr-x 2 mvbarten mvbarten 4096 Mar 14 17:59 checkpoints\n",
      "drwxrwxr-x 2 mvbarten mvbarten 4096 Mar 14 17:59 expectations\n",
      "-rw-rw-r-- 1 mvbarten mvbarten 4194 Mar 14 17:59 great_expectations.yml\n",
      "drwxrwxr-x 3 mvbarten mvbarten 4096 Mar 14 17:59 plugins\n",
      "drwxrwxr-x 2 mvbarten mvbarten 4096 Mar 14 17:59 profilers\n",
      "drwxrwxr-x 4 mvbarten mvbarten 4096 Mar 14 17:59 uncommitted\n"
     ]
    }
   ],
   "source": [
    "!ls -l gx"
   ]
  },
  {
   "cell_type": "code",
   "execution_count": 8,
   "id": "ab5e418f",
   "metadata": {},
   "outputs": [
    {
     "name": "stdout",
     "output_type": "stream",
     "text": [
      "\n",
      "# Welcome to Great Expectations! Always know what to expect from your data.\n",
      "#\n",
      "# Here you can define datasources, batch kwargs generators, integrations and\n",
      "# more. This file is intended to be committed to your repo. For help with\n",
      "# configuration please:\n",
      "#   - Read our docs: https://docs.greatexpectations.io/docs/guides/connecting_to_your_data/connect_to_data_overview/#2-configure-your-datasource\n",
      "#   - Join our slack channel: http://greatexpectations.io/slack\n",
      "\n",
      "# config_version refers to the syntactic version of this config file, and is used in maintaining backwards compatibility\n",
      "# It is auto-generated and usually does not need to be changed.\n",
      "config_version: 3\n",
      "\n",
      "# Datasources tell Great Expectations where your data lives and how to get it.\n",
      "# Read more at https://docs.greatexpectations.io/docs/guides/connecting_to_your_data/connect_to_data_overview\n",
      "datasources: {}\n",
      "\n",
      "# This config file supports variable substitution which enables: 1) keeping\n",
      "# secrets out of source control & 2) environment-based configuration changes\n",
      "# such as staging vs prod.\n",
      "#\n",
      "# When GX encounters substitution syntax (like `my_key: ${my_value}` or\n",
      "# `my_key: $my_value`) in the great_expectations.yml file, it will attempt\n",
      "# to replace the value of `my_key` with the value from an environment\n",
      "# variable `my_value` or a corresponding key read from this config file,\n",
      "# which is defined through the `config_variables_file_path`.\n",
      "# Environment variables take precedence over variables defined here.\n",
      "#\n",
      "# Substitution values defined here can be a simple (non-nested) value,\n",
      "# nested value such as a dictionary, or an environment variable (i.e. ${ENV_VAR})\n",
      "#\n",
      "#\n",
      "# https://docs.greatexpectations.io/docs/guides/setup/configuring_data_contexts/how_to_configure_credentials\n",
      "\n",
      "\n",
      "config_variables_file_path: uncommitted/config_variables.yml\n",
      "\n",
      "# The plugins_directory will be added to your python path for custom modules\n",
      "# used to override and extend Great Expectations.\n",
      "plugins_directory: plugins/\n",
      "\n",
      "stores:\n",
      "# Stores are configurable places to store things like Expectations, Validations\n",
      "# Data Docs, and more. These are for advanced users only - most users can simply\n",
      "# leave this section alone.\n",
      "#\n",
      "# Three stores are required: expectations, validations, and\n",
      "# evaluation_parameters, and must exist with a valid store entry. Additional\n",
      "# stores can be configured for uses such as data_docs, etc.\n",
      "  expectations_store:\n",
      "    class_name: ExpectationsStore\n",
      "    store_backend:\n",
      "      class_name: TupleFilesystemStoreBackend\n",
      "      base_directory: expectations/\n",
      "\n",
      "  validations_store:\n",
      "    class_name: ValidationsStore\n",
      "    store_backend:\n",
      "      class_name: TupleFilesystemStoreBackend\n",
      "      base_directory: uncommitted/validations/\n",
      "\n",
      "  evaluation_parameter_store:\n",
      "    # Evaluation Parameters enable dynamic expectations. Read more here:\n",
      "    # https://docs.greatexpectations.io/docs/reference/evaluation_parameters/\n",
      "    class_name: EvaluationParameterStore\n",
      "\n",
      "  checkpoint_store:\n",
      "    class_name: CheckpointStore\n",
      "    store_backend:\n",
      "      class_name: TupleFilesystemStoreBackend\n",
      "      suppress_store_backend_id: true\n",
      "      base_directory: checkpoints/\n",
      "\n",
      "  profiler_store:\n",
      "    class_name: ProfilerStore\n",
      "    store_backend:\n",
      "      class_name: TupleFilesystemStoreBackend\n",
      "      suppress_store_backend_id: true\n",
      "      base_directory: profilers/\n",
      "\n",
      "expectations_store_name: expectations_store\n",
      "validations_store_name: validations_store\n",
      "evaluation_parameter_store_name: evaluation_parameter_store\n",
      "checkpoint_store_name: checkpoint_store\n",
      "\n",
      "data_docs_sites:\n",
      "  # Data Docs make it simple to visualize data quality in your project. These\n",
      "  # include Expectations, Validations & Profiles. The are built for all\n",
      "  # Datasources from JSON artifacts in the local repo including validations &\n",
      "  # profiles from the uncommitted directory. Read more at https://docs.greatexpectations.io/docs/terms/data_docs\n",
      "  local_site:\n",
      "    class_name: SiteBuilder\n",
      "    # set to false to hide how-to buttons in Data Docs\n",
      "    show_how_to_buttons: true\n",
      "    store_backend:\n",
      "        class_name: TupleFilesystemStoreBackend\n",
      "        base_directory: uncommitted/data_docs/local_site/\n",
      "    site_index_builder:\n",
      "        class_name: DefaultSiteIndexBuilder\n",
      "\n",
      "anonymous_usage_statistics:\n",
      "  enabled: True\n"
     ]
    }
   ],
   "source": [
    "!cat gx/great_expectations.yml"
   ]
  },
  {
   "cell_type": "code",
   "execution_count": null,
   "id": "f522c1ab",
   "metadata": {},
   "outputs": [],
   "source": []
  }
 ],
 "metadata": {
  "kernelspec": {
   "display_name": "Python 3 (ipykernel)",
   "language": "python",
   "name": "python3"
  },
  "language_info": {
   "codemirror_mode": {
    "name": "ipython",
    "version": 3
   },
   "file_extension": ".py",
   "mimetype": "text/x-python",
   "name": "python",
   "nbconvert_exporter": "python",
   "pygments_lexer": "ipython3",
   "version": "3.10.12"
  }
 },
 "nbformat": 4,
 "nbformat_minor": 5
}
