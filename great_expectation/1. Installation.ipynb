{
 "cells": [
  {
   "cell_type": "code",
   "execution_count": 1,
   "metadata": {},
   "outputs": [
    {
     "name": "stdout",
     "output_type": "stream",
     "text": [
      "Python 3.10.12\n"
     ]
    }
   ],
   "source": [
    "!python --version"
   ]
  },
  {
   "cell_type": "code",
   "execution_count": 2,
   "metadata": {},
   "outputs": [
    {
     "name": "stdout",
     "output_type": "stream",
     "text": [
      "\u001b[33mWARNING: Package(s) not found: great_expectations\u001b[0m\u001b[33m\n",
      "\u001b[0m"
     ]
    }
   ],
   "source": [
    "!pip show great_expectations"
   ]
  },
  {
   "cell_type": "code",
   "execution_count": 2,
   "metadata": {},
   "outputs": [
    {
     "name": "stdout",
     "output_type": "stream",
     "text": [
      "Defaulting to user installation because normal site-packages is not writeable\n",
      "Requirement already satisfied: great_expectations in /home/mvbarten/.local/lib/python3.10/site-packages (0.18.10)\n",
      "Requirement already satisfied: jinja2>=2.10 in /usr/lib/python3/dist-packages (from great_expectations) (3.0.3)\n",
      "Requirement already satisfied: jsonschema>=2.5.1 in /home/mvbarten/.local/lib/python3.10/site-packages (from great_expectations) (4.21.1)\n",
      "Requirement already satisfied: pyparsing>=2.4 in /usr/lib/python3/dist-packages (from great_expectations) (2.4.7)\n",
      "Requirement already satisfied: makefun<2,>=1.7.0 in /home/mvbarten/.local/lib/python3.10/site-packages (from great_expectations) (1.15.2)\n",
      "Requirement already satisfied: packaging in /home/mvbarten/.local/lib/python3.10/site-packages (from great_expectations) (23.2)\n",
      "Requirement already satisfied: python-dateutil>=2.8.1 in /home/mvbarten/.local/lib/python3.10/site-packages (from great_expectations) (2.8.2)\n",
      "Requirement already satisfied: ruamel.yaml<0.17.18,>=0.16 in /home/mvbarten/.local/lib/python3.10/site-packages (from great_expectations) (0.17.17)\n",
      "Requirement already satisfied: nbformat>=5.0 in /home/mvbarten/.local/lib/python3.10/site-packages (from great_expectations) (5.9.2)\n",
      "Requirement already satisfied: cryptography>=3.2 in /usr/lib/python3/dist-packages (from great_expectations) (3.4.8)\n",
      "Requirement already satisfied: mistune>=0.8.4 in /home/mvbarten/.local/lib/python3.10/site-packages (from great_expectations) (3.0.2)\n",
      "Requirement already satisfied: notebook>=6.4.10 in /home/mvbarten/.local/lib/python3.10/site-packages (from great_expectations) (7.1.1)\n",
      "Requirement already satisfied: marshmallow<4.0.0,>=3.7.1 in /home/mvbarten/.local/lib/python3.10/site-packages (from great_expectations) (3.21.1)\n",
      "Requirement already satisfied: requests>=2.20 in /home/mvbarten/.local/lib/python3.10/site-packages (from great_expectations) (2.31.0)\n",
      "Requirement already satisfied: tzlocal>=1.2 in /home/mvbarten/.local/lib/python3.10/site-packages (from great_expectations) (5.2)\n",
      "Requirement already satisfied: jsonpatch>=1.22 in /usr/lib/python3/dist-packages (from great_expectations) (1.32)\n",
      "Requirement already satisfied: pytz>=2021.3 in /usr/lib/python3/dist-packages (from great_expectations) (2022.1)\n",
      "Requirement already satisfied: pydantic>=1.9.2 in /home/mvbarten/.local/lib/python3.10/site-packages (from great_expectations) (2.6.3)\n",
      "Requirement already satisfied: scipy>=1.6.0 in /home/mvbarten/.local/lib/python3.10/site-packages (from great_expectations) (1.12.0)\n",
      "Requirement already satisfied: tqdm>=4.59.0 in /home/mvbarten/.local/lib/python3.10/site-packages (from great_expectations) (4.66.2)\n",
      "Requirement already satisfied: colorama>=0.4.3 in /usr/lib/python3/dist-packages (from great_expectations) (0.4.4)\n",
      "Requirement already satisfied: numpy<2.0.0,>=1.22.4 in /home/mvbarten/.local/lib/python3.10/site-packages (from great_expectations) (1.26.4)\n",
      "Requirement already satisfied: Ipython>=7.16.3 in /home/mvbarten/.local/lib/python3.10/site-packages (from great_expectations) (8.22.1)\n",
      "Requirement already satisfied: altair<5.0.0,>=4.2.1 in /home/mvbarten/.local/lib/python3.10/site-packages (from great_expectations) (4.2.2)\n",
      "Requirement already satisfied: pandas>=1.3.0 in /home/mvbarten/.local/lib/python3.10/site-packages (from great_expectations) (2.2.1)\n",
      "Requirement already satisfied: typing-extensions>=3.10.0.0 in /home/mvbarten/.local/lib/python3.10/site-packages (from great_expectations) (4.10.0)\n",
      "Requirement already satisfied: Click>=7.1.2 in /usr/lib/python3/dist-packages (from great_expectations) (8.0.3)\n",
      "Requirement already satisfied: urllib3>=1.26 in /usr/lib/python3/dist-packages (from great_expectations) (1.26.5)\n",
      "Requirement already satisfied: ipywidgets>=7.5.1 in /home/mvbarten/.local/lib/python3.10/site-packages (from great_expectations) (8.1.2)\n",
      "Requirement already satisfied: entrypoints in /home/mvbarten/.local/lib/python3.10/site-packages (from altair<5.0.0,>=4.2.1->great_expectations) (0.4)\n",
      "Requirement already satisfied: toolz in /home/mvbarten/.local/lib/python3.10/site-packages (from altair<5.0.0,>=4.2.1->great_expectations) (0.12.1)\n",
      "Requirement already satisfied: decorator in /home/mvbarten/.local/lib/python3.10/site-packages (from Ipython>=7.16.3->great_expectations) (5.1.1)\n",
      "Requirement already satisfied: jedi>=0.16 in /home/mvbarten/.local/lib/python3.10/site-packages (from Ipython>=7.16.3->great_expectations) (0.19.1)\n",
      "Requirement already satisfied: matplotlib-inline in /home/mvbarten/.local/lib/python3.10/site-packages (from Ipython>=7.16.3->great_expectations) (0.1.6)\n",
      "Requirement already satisfied: stack-data in /home/mvbarten/.local/lib/python3.10/site-packages (from Ipython>=7.16.3->great_expectations) (0.6.3)\n",
      "Requirement already satisfied: pexpect>4.3 in /usr/lib/python3/dist-packages (from Ipython>=7.16.3->great_expectations) (4.8.0)\n",
      "Requirement already satisfied: traitlets>=5.13.0 in /home/mvbarten/.local/lib/python3.10/site-packages (from Ipython>=7.16.3->great_expectations) (5.14.1)\n",
      "Requirement already satisfied: exceptiongroup in /home/mvbarten/.local/lib/python3.10/site-packages (from Ipython>=7.16.3->great_expectations) (1.2.0)\n",
      "Requirement already satisfied: pygments>=2.4.0 in /home/mvbarten/.local/lib/python3.10/site-packages (from Ipython>=7.16.3->great_expectations) (2.17.2)\n",
      "Requirement already satisfied: prompt-toolkit<3.1.0,>=3.0.41 in /home/mvbarten/.local/lib/python3.10/site-packages (from Ipython>=7.16.3->great_expectations) (3.0.43)\n",
      "Requirement already satisfied: jupyterlab-widgets~=3.0.10 in /home/mvbarten/.local/lib/python3.10/site-packages (from ipywidgets>=7.5.1->great_expectations) (3.0.10)\n",
      "Requirement already satisfied: widgetsnbextension~=4.0.10 in /home/mvbarten/.local/lib/python3.10/site-packages (from ipywidgets>=7.5.1->great_expectations) (4.0.10)\n",
      "Requirement already satisfied: comm>=0.1.3 in /home/mvbarten/.local/lib/python3.10/site-packages (from ipywidgets>=7.5.1->great_expectations) (0.2.1)\n",
      "Requirement already satisfied: rpds-py>=0.7.1 in /home/mvbarten/.local/lib/python3.10/site-packages (from jsonschema>=2.5.1->great_expectations) (0.18.0)\n",
      "Requirement already satisfied: attrs>=22.2.0 in /home/mvbarten/.local/lib/python3.10/site-packages (from jsonschema>=2.5.1->great_expectations) (23.2.0)\n",
      "Requirement already satisfied: jsonschema-specifications>=2023.03.6 in /home/mvbarten/.local/lib/python3.10/site-packages (from jsonschema>=2.5.1->great_expectations) (2023.12.1)\n",
      "Requirement already satisfied: referencing>=0.28.4 in /home/mvbarten/.local/lib/python3.10/site-packages (from jsonschema>=2.5.1->great_expectations) (0.33.0)\n",
      "Requirement already satisfied: jupyter-core in /home/mvbarten/.local/lib/python3.10/site-packages (from nbformat>=5.0->great_expectations) (5.7.1)\n",
      "Requirement already satisfied: fastjsonschema in /home/mvbarten/.local/lib/python3.10/site-packages (from nbformat>=5.0->great_expectations) (2.19.1)\n",
      "Requirement already satisfied: tornado>=6.2.0 in /home/mvbarten/.local/lib/python3.10/site-packages (from notebook>=6.4.10->great_expectations) (6.4)\n",
      "Requirement already satisfied: jupyter-server<3,>=2.4.0 in /home/mvbarten/.local/lib/python3.10/site-packages (from notebook>=6.4.10->great_expectations) (2.12.5)\n",
      "Requirement already satisfied: notebook-shim<0.3,>=0.2 in /home/mvbarten/.local/lib/python3.10/site-packages (from notebook>=6.4.10->great_expectations) (0.2.4)\n",
      "Requirement already satisfied: jupyterlab<4.2,>=4.1.1 in /home/mvbarten/.local/lib/python3.10/site-packages (from notebook>=6.4.10->great_expectations) (4.1.2)\n",
      "Requirement already satisfied: jupyterlab-server<3,>=2.22.1 in /home/mvbarten/.local/lib/python3.10/site-packages (from notebook>=6.4.10->great_expectations) (2.25.3)\n",
      "Requirement already satisfied: tzdata>=2022.7 in /home/mvbarten/.local/lib/python3.10/site-packages (from pandas>=1.3.0->great_expectations) (2024.1)\n",
      "Requirement already satisfied: pydantic-core==2.16.3 in /home/mvbarten/.local/lib/python3.10/site-packages (from pydantic>=1.9.2->great_expectations) (2.16.3)\n",
      "Requirement already satisfied: annotated-types>=0.4.0 in /home/mvbarten/.local/lib/python3.10/site-packages (from pydantic>=1.9.2->great_expectations) (0.6.0)\n",
      "Requirement already satisfied: six>=1.5 in /usr/lib/python3/dist-packages (from python-dateutil>=2.8.1->great_expectations) (1.16.0)\n",
      "Requirement already satisfied: certifi>=2017.4.17 in /usr/lib/python3/dist-packages (from requests>=2.20->great_expectations) (2020.6.20)\n",
      "Requirement already satisfied: charset-normalizer<4,>=2 in /home/mvbarten/.local/lib/python3.10/site-packages (from requests>=2.20->great_expectations) (3.3.2)\n",
      "Requirement already satisfied: idna<4,>=2.5 in /usr/lib/python3/dist-packages (from requests>=2.20->great_expectations) (3.3)\n",
      "Requirement already satisfied: parso<0.9.0,>=0.8.3 in /home/mvbarten/.local/lib/python3.10/site-packages (from jedi>=0.16->Ipython>=7.16.3->great_expectations) (0.8.3)\n",
      "Requirement already satisfied: jupyter-server-terminals in /home/mvbarten/.local/lib/python3.10/site-packages (from jupyter-server<3,>=2.4.0->notebook>=6.4.10->great_expectations) (0.5.2)\n",
      "Requirement already satisfied: pyzmq>=24 in /home/mvbarten/.local/lib/python3.10/site-packages (from jupyter-server<3,>=2.4.0->notebook>=6.4.10->great_expectations) (25.1.2)\n",
      "Requirement already satisfied: websocket-client in /home/mvbarten/.local/lib/python3.10/site-packages (from jupyter-server<3,>=2.4.0->notebook>=6.4.10->great_expectations) (1.7.0)\n",
      "Requirement already satisfied: argon2-cffi in /home/mvbarten/.local/lib/python3.10/site-packages (from jupyter-server<3,>=2.4.0->notebook>=6.4.10->great_expectations) (23.1.0)\n",
      "Requirement already satisfied: prometheus-client in /home/mvbarten/.local/lib/python3.10/site-packages (from jupyter-server<3,>=2.4.0->notebook>=6.4.10->great_expectations) (0.20.0)\n",
      "Requirement already satisfied: jupyter-events>=0.9.0 in /home/mvbarten/.local/lib/python3.10/site-packages (from jupyter-server<3,>=2.4.0->notebook>=6.4.10->great_expectations) (0.9.0)\n",
      "Requirement already satisfied: overrides in /home/mvbarten/.local/lib/python3.10/site-packages (from jupyter-server<3,>=2.4.0->notebook>=6.4.10->great_expectations) (7.7.0)\n",
      "Requirement already satisfied: jupyter-client>=7.4.4 in /home/mvbarten/.local/lib/python3.10/site-packages (from jupyter-server<3,>=2.4.0->notebook>=6.4.10->great_expectations) (8.6.0)\n",
      "Requirement already satisfied: anyio>=3.1.0 in /home/mvbarten/.local/lib/python3.10/site-packages (from jupyter-server<3,>=2.4.0->notebook>=6.4.10->great_expectations) (4.3.0)\n",
      "Requirement already satisfied: nbconvert>=6.4.4 in /home/mvbarten/.local/lib/python3.10/site-packages (from jupyter-server<3,>=2.4.0->notebook>=6.4.10->great_expectations) (7.16.1)\n",
      "Requirement already satisfied: send2trash>=1.8.2 in /home/mvbarten/.local/lib/python3.10/site-packages (from jupyter-server<3,>=2.4.0->notebook>=6.4.10->great_expectations) (1.8.2)\n",
      "Requirement already satisfied: terminado>=0.8.3 in /home/mvbarten/.local/lib/python3.10/site-packages (from jupyter-server<3,>=2.4.0->notebook>=6.4.10->great_expectations) (0.18.0)\n",
      "Requirement already satisfied: platformdirs>=2.5 in /home/mvbarten/.local/lib/python3.10/site-packages (from jupyter-core->nbformat>=5.0->great_expectations) (4.2.0)\n",
      "Requirement already satisfied: async-lru>=1.0.0 in /home/mvbarten/.local/lib/python3.10/site-packages (from jupyterlab<4.2,>=4.1.1->notebook>=6.4.10->great_expectations) (2.0.4)\n",
      "Requirement already satisfied: tomli in /home/mvbarten/.local/lib/python3.10/site-packages (from jupyterlab<4.2,>=4.1.1->notebook>=6.4.10->great_expectations) (2.0.1)\n",
      "Requirement already satisfied: jupyter-lsp>=2.0.0 in /home/mvbarten/.local/lib/python3.10/site-packages (from jupyterlab<4.2,>=4.1.1->notebook>=6.4.10->great_expectations) (2.2.3)\n",
      "Requirement already satisfied: httpx>=0.25.0 in /home/mvbarten/.local/lib/python3.10/site-packages (from jupyterlab<4.2,>=4.1.1->notebook>=6.4.10->great_expectations) (0.27.0)\n",
      "Requirement already satisfied: ipykernel in /home/mvbarten/.local/lib/python3.10/site-packages (from jupyterlab<4.2,>=4.1.1->notebook>=6.4.10->great_expectations) (6.29.3)\n",
      "Requirement already satisfied: babel>=2.10 in /home/mvbarten/.local/lib/python3.10/site-packages (from jupyterlab-server<3,>=2.22.1->notebook>=6.4.10->great_expectations) (2.14.0)\n",
      "Requirement already satisfied: json5>=0.9.0 in /home/mvbarten/.local/lib/python3.10/site-packages (from jupyterlab-server<3,>=2.22.1->notebook>=6.4.10->great_expectations) (0.9.17)\n",
      "Requirement already satisfied: wcwidth in /home/mvbarten/.local/lib/python3.10/site-packages (from prompt-toolkit<3.1.0,>=3.0.41->Ipython>=7.16.3->great_expectations) (0.2.13)\n",
      "Requirement already satisfied: asttokens>=2.1.0 in /home/mvbarten/.local/lib/python3.10/site-packages (from stack-data->Ipython>=7.16.3->great_expectations) (2.4.1)\n",
      "Requirement already satisfied: pure-eval in /home/mvbarten/.local/lib/python3.10/site-packages (from stack-data->Ipython>=7.16.3->great_expectations) (0.2.2)\n",
      "Requirement already satisfied: executing>=1.2.0 in /home/mvbarten/.local/lib/python3.10/site-packages (from stack-data->Ipython>=7.16.3->great_expectations) (2.0.1)\n",
      "Requirement already satisfied: sniffio>=1.1 in /home/mvbarten/.local/lib/python3.10/site-packages (from anyio>=3.1.0->jupyter-server<3,>=2.4.0->notebook>=6.4.10->great_expectations) (1.3.1)\n",
      "Requirement already satisfied: httpcore==1.* in /home/mvbarten/.local/lib/python3.10/site-packages (from httpx>=0.25.0->jupyterlab<4.2,>=4.1.1->notebook>=6.4.10->great_expectations) (1.0.4)\n",
      "Requirement already satisfied: h11<0.15,>=0.13 in /home/mvbarten/.local/lib/python3.10/site-packages (from httpcore==1.*->httpx>=0.25.0->jupyterlab<4.2,>=4.1.1->notebook>=6.4.10->great_expectations) (0.14.0)\n",
      "Requirement already satisfied: rfc3986-validator>=0.1.1 in /home/mvbarten/.local/lib/python3.10/site-packages (from jupyter-events>=0.9.0->jupyter-server<3,>=2.4.0->notebook>=6.4.10->great_expectations) (0.1.1)\n",
      "Requirement already satisfied: rfc3339-validator in /home/mvbarten/.local/lib/python3.10/site-packages (from jupyter-events>=0.9.0->jupyter-server<3,>=2.4.0->notebook>=6.4.10->great_expectations) (0.1.4)\n",
      "Requirement already satisfied: pyyaml>=5.3 in /usr/lib/python3/dist-packages (from jupyter-events>=0.9.0->jupyter-server<3,>=2.4.0->notebook>=6.4.10->great_expectations) (5.4.1)\n",
      "Requirement already satisfied: python-json-logger>=2.0.4 in /home/mvbarten/.local/lib/python3.10/site-packages (from jupyter-events>=0.9.0->jupyter-server<3,>=2.4.0->notebook>=6.4.10->great_expectations) (2.0.7)\n",
      "Requirement already satisfied: defusedxml in /home/mvbarten/.local/lib/python3.10/site-packages (from nbconvert>=6.4.4->jupyter-server<3,>=2.4.0->notebook>=6.4.10->great_expectations) (0.7.1)\n",
      "Requirement already satisfied: jupyterlab-pygments in /home/mvbarten/.local/lib/python3.10/site-packages (from nbconvert>=6.4.4->jupyter-server<3,>=2.4.0->notebook>=6.4.10->great_expectations) (0.3.0)\n",
      "Requirement already satisfied: tinycss2 in /home/mvbarten/.local/lib/python3.10/site-packages (from nbconvert>=6.4.4->jupyter-server<3,>=2.4.0->notebook>=6.4.10->great_expectations) (1.2.1)\n",
      "Requirement already satisfied: markupsafe>=2.0 in /usr/lib/python3/dist-packages (from nbconvert>=6.4.4->jupyter-server<3,>=2.4.0->notebook>=6.4.10->great_expectations) (2.0.1)\n",
      "Requirement already satisfied: beautifulsoup4 in /home/mvbarten/.local/lib/python3.10/site-packages (from nbconvert>=6.4.4->jupyter-server<3,>=2.4.0->notebook>=6.4.10->great_expectations) (4.12.3)\n",
      "Requirement already satisfied: nbclient>=0.5.0 in /home/mvbarten/.local/lib/python3.10/site-packages (from nbconvert>=6.4.4->jupyter-server<3,>=2.4.0->notebook>=6.4.10->great_expectations) (0.9.0)\n",
      "Requirement already satisfied: pandocfilters>=1.4.1 in /home/mvbarten/.local/lib/python3.10/site-packages (from nbconvert>=6.4.4->jupyter-server<3,>=2.4.0->notebook>=6.4.10->great_expectations) (1.5.1)\n",
      "Requirement already satisfied: bleach!=5.0.0 in /home/mvbarten/.local/lib/python3.10/site-packages (from nbconvert>=6.4.4->jupyter-server<3,>=2.4.0->notebook>=6.4.10->great_expectations) (6.1.0)\n",
      "Requirement already satisfied: ptyprocess in /usr/lib/python3/dist-packages (from terminado>=0.8.3->jupyter-server<3,>=2.4.0->notebook>=6.4.10->great_expectations) (0.7.0)\n",
      "Requirement already satisfied: argon2-cffi-bindings in /home/mvbarten/.local/lib/python3.10/site-packages (from argon2-cffi->jupyter-server<3,>=2.4.0->notebook>=6.4.10->great_expectations) (21.2.0)\n",
      "Requirement already satisfied: nest-asyncio in /home/mvbarten/.local/lib/python3.10/site-packages (from ipykernel->jupyterlab<4.2,>=4.1.1->notebook>=6.4.10->great_expectations) (1.6.0)\n",
      "Requirement already satisfied: debugpy>=1.6.5 in /home/mvbarten/.local/lib/python3.10/site-packages (from ipykernel->jupyterlab<4.2,>=4.1.1->notebook>=6.4.10->great_expectations) (1.8.1)\n",
      "Requirement already satisfied: psutil in /home/mvbarten/.local/lib/python3.10/site-packages (from ipykernel->jupyterlab<4.2,>=4.1.1->notebook>=6.4.10->great_expectations) (5.9.8)\n",
      "Requirement already satisfied: webencodings in /home/mvbarten/.local/lib/python3.10/site-packages (from bleach!=5.0.0->nbconvert>=6.4.4->jupyter-server<3,>=2.4.0->notebook>=6.4.10->great_expectations) (0.5.1)\n",
      "Requirement already satisfied: uri-template in /home/mvbarten/.local/lib/python3.10/site-packages (from jsonschema>=2.5.1->great_expectations) (1.3.0)\n",
      "Requirement already satisfied: jsonpointer>1.13 in /usr/lib/python3/dist-packages (from jsonschema>=2.5.1->great_expectations) (2.0)\n",
      "Requirement already satisfied: isoduration in /home/mvbarten/.local/lib/python3.10/site-packages (from jsonschema>=2.5.1->great_expectations) (20.11.0)\n",
      "Requirement already satisfied: webcolors>=1.11 in /home/mvbarten/.local/lib/python3.10/site-packages (from jsonschema>=2.5.1->great_expectations) (1.13)\n",
      "Requirement already satisfied: fqdn in /home/mvbarten/.local/lib/python3.10/site-packages (from jsonschema>=2.5.1->great_expectations) (1.5.1)\n",
      "Requirement already satisfied: cffi>=1.0.1 in /home/mvbarten/.local/lib/python3.10/site-packages (from argon2-cffi-bindings->argon2-cffi->jupyter-server<3,>=2.4.0->notebook>=6.4.10->great_expectations) (1.16.0)\n",
      "Requirement already satisfied: soupsieve>1.2 in /home/mvbarten/.local/lib/python3.10/site-packages (from beautifulsoup4->nbconvert>=6.4.4->jupyter-server<3,>=2.4.0->notebook>=6.4.10->great_expectations) (2.5)\n",
      "Requirement already satisfied: pycparser in /home/mvbarten/.local/lib/python3.10/site-packages (from cffi>=1.0.1->argon2-cffi-bindings->argon2-cffi->jupyter-server<3,>=2.4.0->notebook>=6.4.10->great_expectations) (2.21)\n",
      "Requirement already satisfied: arrow>=0.15.0 in /home/mvbarten/.local/lib/python3.10/site-packages (from isoduration->jsonschema>=2.5.1->great_expectations) (1.3.0)\n",
      "Requirement already satisfied: types-python-dateutil>=2.8.10 in /home/mvbarten/.local/lib/python3.10/site-packages (from arrow>=0.15.0->isoduration->jsonschema>=2.5.1->great_expectations) (2.8.19.20240106)\n"
     ]
    }
   ],
   "source": [
    "!pip install --upgrade great_expectations"
   ]
  },
  {
   "cell_type": "code",
   "execution_count": 3,
   "metadata": {},
   "outputs": [],
   "source": [
    "import great_expectations as ge"
   ]
  },
  {
   "cell_type": "code",
   "execution_count": 4,
   "metadata": {},
   "outputs": [
    {
     "data": {
      "text/plain": [
       "'0.18.10'"
      ]
     },
     "execution_count": 4,
     "metadata": {},
     "output_type": "execute_result"
    }
   ],
   "source": [
    "ge.__version__"
   ]
  },
  {
   "cell_type": "code",
   "execution_count": null,
   "metadata": {},
   "outputs": [],
   "source": []
  }
 ],
 "metadata": {
  "kernelspec": {
   "display_name": "Python 3 (ipykernel)",
   "language": "python",
   "name": "python3"
  },
  "language_info": {
   "codemirror_mode": {
    "name": "ipython",
    "version": 3
   },
   "file_extension": ".py",
   "mimetype": "text/x-python",
   "name": "python",
   "nbconvert_exporter": "python",
   "pygments_lexer": "ipython3",
   "version": "3.10.12"
  }
 },
 "nbformat": 4,
 "nbformat_minor": 4
}
