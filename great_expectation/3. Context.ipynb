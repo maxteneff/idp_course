{
 "cells": [
  {
   "cell_type": "markdown",
   "id": "b339306d",
   "metadata": {},
   "source": [
    "### Documentation URL ###\n",
    "- https://docs.greatexpectations.io/docs/oss/guides/setup/configuring_data_contexts/instantiating_data_contexts/instantiate_data_context"
   ]
  },
  {
   "cell_type": "code",
   "execution_count": 1,
   "id": "5e9ba5dc",
   "metadata": {},
   "outputs": [],
   "source": [
    "import great_expectations as ge"
   ]
  },
  {
   "cell_type": "code",
   "execution_count": 2,
   "id": "e3edd277",
   "metadata": {},
   "outputs": [],
   "source": [
    "context = ge.get_context()"
   ]
  },
  {
   "cell_type": "code",
   "execution_count": 3,
   "id": "adf214c1",
   "metadata": {},
   "outputs": [
    {
     "name": "stdout",
     "output_type": "stream",
     "text": [
      "total 28\n",
      "drwxrwxr-x 2 mvbarten mvbarten 4096 Mar 11 15:55 checkpoints\n",
      "drwxrwxr-x 2 mvbarten mvbarten 4096 Mar 11 15:55 expectations\n",
      "-rw-rw-r-- 1 mvbarten mvbarten 4194 Mar 11 15:55 great_expectations.yml\n",
      "drwxrwxr-x 3 mvbarten mvbarten 4096 Mar 11 15:55 plugins\n",
      "drwxrwxr-x 2 mvbarten mvbarten 4096 Mar 11 15:55 profilers\n",
      "drwxrwxr-x 4 mvbarten mvbarten 4096 Mar 11 15:55 uncommitted\n"
     ]
    }
   ],
   "source": [
    "!ls -l gx"
   ]
  },
  {
   "cell_type": "code",
   "execution_count": 3,
   "id": "e6f2e60e",
   "metadata": {},
   "outputs": [
    {
     "data": {
      "text/plain": [
       "{\n",
       "  \"anonymous_usage_statistics\": {\n",
       "    \"explicit_id\": true,\n",
       "    \"usage_statistics_url\": \"https://stats.greatexpectations.io/great_expectations/v1/usage_statistics\",\n",
       "    \"data_context_id\": \"eaa7d66c-5903-4922-a2c1-088fd6ba97a3\",\n",
       "    \"enabled\": true,\n",
       "    \"explicit_url\": false\n",
       "  },\n",
       "  \"checkpoint_store_name\": \"checkpoint_store\",\n",
       "  \"config_variables_file_path\": \"uncommitted/config_variables.yml\",\n",
       "  \"config_version\": 3.0,\n",
       "  \"data_docs_sites\": {\n",
       "    \"local_site\": {\n",
       "      \"class_name\": \"SiteBuilder\",\n",
       "      \"show_how_to_buttons\": true,\n",
       "      \"store_backend\": {\n",
       "        \"class_name\": \"TupleFilesystemStoreBackend\",\n",
       "        \"base_directory\": \"uncommitted/data_docs/local_site/\"\n",
       "      },\n",
       "      \"site_index_builder\": {\n",
       "        \"class_name\": \"DefaultSiteIndexBuilder\"\n",
       "      }\n",
       "    }\n",
       "  },\n",
       "  \"datasources\": {},\n",
       "  \"evaluation_parameter_store_name\": \"evaluation_parameter_store\",\n",
       "  \"expectations_store_name\": \"expectations_store\",\n",
       "  \"fluent_datasources\": {},\n",
       "  \"include_rendered_content\": {\n",
       "    \"expectation_suite\": false,\n",
       "    \"globally\": false,\n",
       "    \"expectation_validation_result\": false\n",
       "  },\n",
       "  \"plugins_directory\": \"plugins/\",\n",
       "  \"stores\": {\n",
       "    \"expectations_store\": {\n",
       "      \"class_name\": \"ExpectationsStore\",\n",
       "      \"store_backend\": {\n",
       "        \"class_name\": \"TupleFilesystemStoreBackend\",\n",
       "        \"base_directory\": \"expectations/\"\n",
       "      }\n",
       "    },\n",
       "    \"validations_store\": {\n",
       "      \"class_name\": \"ValidationsStore\",\n",
       "      \"store_backend\": {\n",
       "        \"class_name\": \"TupleFilesystemStoreBackend\",\n",
       "        \"base_directory\": \"uncommitted/validations/\"\n",
       "      }\n",
       "    },\n",
       "    \"evaluation_parameter_store\": {\n",
       "      \"class_name\": \"EvaluationParameterStore\"\n",
       "    },\n",
       "    \"checkpoint_store\": {\n",
       "      \"class_name\": \"CheckpointStore\",\n",
       "      \"store_backend\": {\n",
       "        \"class_name\": \"TupleFilesystemStoreBackend\",\n",
       "        \"suppress_store_backend_id\": true,\n",
       "        \"base_directory\": \"checkpoints/\"\n",
       "      }\n",
       "    },\n",
       "    \"profiler_store\": {\n",
       "      \"class_name\": \"ProfilerStore\",\n",
       "      \"store_backend\": {\n",
       "        \"class_name\": \"TupleFilesystemStoreBackend\",\n",
       "        \"suppress_store_backend_id\": true,\n",
       "        \"base_directory\": \"profilers/\"\n",
       "      }\n",
       "    }\n",
       "  },\n",
       "  \"validations_store_name\": \"validations_store\"\n",
       "}"
      ]
     },
     "execution_count": 3,
     "metadata": {},
     "output_type": "execute_result"
    }
   ],
   "source": [
    "context"
   ]
  },
  {
   "cell_type": "code",
   "execution_count": 5,
   "id": "c281ac97",
   "metadata": {},
   "outputs": [
    {
     "name": "stdout",
     "output_type": "stream",
     "text": [
      "total 388\n",
      "drwxrwxr-x  4 mvbarten mvbarten   4096 Mar 11 15:55  .\n",
      "drwxr-x--- 13 mvbarten mvbarten   4096 Mar 11 15:46  ..\n",
      "-rw-rw-r--  1 mvbarten mvbarten  26226 Mar 11 15:46 '1. Installation.ipynb'\n",
      "-rw-rw-r--  1 mvbarten mvbarten  12451 Mar 11 15:55 '2. Initialize.ipynb'\n",
      "-rw-rw-r--  1 mvbarten mvbarten 175333 Mar 11 15:41 '3. Context.ipynb'\n",
      "-rw-rw-r--  1 mvbarten mvbarten  46552 Mar 11 15:41 '4. Main Functions.ipynb'\n",
      "-rw-rw-r--  1 mvbarten mvbarten  64401 Mar 11 15:41 '5. Time Series.ipynb'\n",
      "-rw-rw-r--  1 mvbarten mvbarten  16795 Mar 11 15:41 '6. PySpark DataFrame.ipynb'\n",
      "drwxrwxr-x  7 mvbarten mvbarten   4096 Mar 11 15:55  gx\n",
      "-rw-rw-r--  1 mvbarten mvbarten  18209 Mar 11 15:44  Installation.ipynb\n",
      "drwxrwxr-x  2 mvbarten mvbarten   4096 Mar 11 15:44  .ipynb_checkpoints\n",
      "-rw-rw-r--  1 mvbarten mvbarten    800 Mar 11 15:41  saved_titanic_exp.json\n"
     ]
    }
   ],
   "source": [
    "!ls -la"
   ]
  },
  {
   "cell_type": "code",
   "execution_count": 6,
   "id": "105ce053",
   "metadata": {},
   "outputs": [
    {
     "name": "stdout",
     "output_type": "stream",
     "text": [
      "total 28\n",
      "drwxrwxr-x 2 mvbarten mvbarten 4096 Mar 11 15:55 checkpoints\n",
      "drwxrwxr-x 2 mvbarten mvbarten 4096 Mar 11 15:55 expectations\n",
      "-rw-rw-r-- 1 mvbarten mvbarten 4194 Mar 11 15:55 great_expectations.yml\n",
      "drwxrwxr-x 3 mvbarten mvbarten 4096 Mar 11 15:55 plugins\n",
      "drwxrwxr-x 2 mvbarten mvbarten 4096 Mar 11 15:55 profilers\n",
      "drwxrwxr-x 4 mvbarten mvbarten 4096 Mar 11 15:55 uncommitted\n"
     ]
    }
   ],
   "source": [
    "!ls -l gx"
   ]
  },
  {
   "cell_type": "code",
   "execution_count": 7,
   "id": "95fb23b7",
   "metadata": {},
   "outputs": [
    {
     "name": "stdout",
     "output_type": "stream",
     "text": [
      "\n",
      "# Welcome to Great Expectations! Always know what to expect from your data.\n",
      "#\n",
      "# Here you can define datasources, batch kwargs generators, integrations and\n",
      "# more. This file is intended to be committed to your repo. For help with\n",
      "# configuration please:\n",
      "#   - Read our docs: https://docs.greatexpectations.io/docs/guides/connecting_to_your_data/connect_to_data_overview/#2-configure-your-datasource\n",
      "#   - Join our slack channel: http://greatexpectations.io/slack\n",
      "\n",
      "# config_version refers to the syntactic version of this config file, and is used in maintaining backwards compatibility\n",
      "# It is auto-generated and usually does not need to be changed.\n",
      "config_version: 3\n",
      "\n",
      "# Datasources tell Great Expectations where your data lives and how to get it.\n",
      "# Read more at https://docs.greatexpectations.io/docs/guides/connecting_to_your_data/connect_to_data_overview\n",
      "datasources: {}\n",
      "\n",
      "# This config file supports variable substitution which enables: 1) keeping\n",
      "# secrets out of source control & 2) environment-based configuration changes\n",
      "# such as staging vs prod.\n",
      "#\n",
      "# When GX encounters substitution syntax (like `my_key: ${my_value}` or\n",
      "# `my_key: $my_value`) in the great_expectations.yml file, it will attempt\n",
      "# to replace the value of `my_key` with the value from an environment\n",
      "# variable `my_value` or a corresponding key read from this config file,\n",
      "# which is defined through the `config_variables_file_path`.\n",
      "# Environment variables take precedence over variables defined here.\n",
      "#\n",
      "# Substitution values defined here can be a simple (non-nested) value,\n",
      "# nested value such as a dictionary, or an environment variable (i.e. ${ENV_VAR})\n",
      "#\n",
      "#\n",
      "# https://docs.greatexpectations.io/docs/guides/setup/configuring_data_contexts/how_to_configure_credentials\n",
      "\n",
      "\n",
      "config_variables_file_path: uncommitted/config_variables.yml\n",
      "\n",
      "# The plugins_directory will be added to your python path for custom modules\n",
      "# used to override and extend Great Expectations.\n",
      "plugins_directory: plugins/\n",
      "\n",
      "stores:\n",
      "# Stores are configurable places to store things like Expectations, Validations\n",
      "# Data Docs, and more. These are for advanced users only - most users can simply\n",
      "# leave this section alone.\n",
      "#\n",
      "# Three stores are required: expectations, validations, and\n",
      "# evaluation_parameters, and must exist with a valid store entry. Additional\n",
      "# stores can be configured for uses such as data_docs, etc.\n",
      "  expectations_store:\n",
      "    class_name: ExpectationsStore\n",
      "    store_backend:\n",
      "      class_name: TupleFilesystemStoreBackend\n",
      "      base_directory: expectations/\n",
      "\n",
      "  validations_store:\n",
      "    class_name: ValidationsStore\n",
      "    store_backend:\n",
      "      class_name: TupleFilesystemStoreBackend\n",
      "      base_directory: uncommitted/validations/\n",
      "\n",
      "  evaluation_parameter_store:\n",
      "    # Evaluation Parameters enable dynamic expectations. Read more here:\n",
      "    # https://docs.greatexpectations.io/docs/reference/evaluation_parameters/\n",
      "    class_name: EvaluationParameterStore\n",
      "\n",
      "  checkpoint_store:\n",
      "    class_name: CheckpointStore\n",
      "    store_backend:\n",
      "      class_name: TupleFilesystemStoreBackend\n",
      "      suppress_store_backend_id: true\n",
      "      base_directory: checkpoints/\n",
      "\n",
      "  profiler_store:\n",
      "    class_name: ProfilerStore\n",
      "    store_backend:\n",
      "      class_name: TupleFilesystemStoreBackend\n",
      "      suppress_store_backend_id: true\n",
      "      base_directory: profilers/\n",
      "\n",
      "expectations_store_name: expectations_store\n",
      "validations_store_name: validations_store\n",
      "evaluation_parameter_store_name: evaluation_parameter_store\n",
      "checkpoint_store_name: checkpoint_store\n",
      "\n",
      "data_docs_sites:\n",
      "  # Data Docs make it simple to visualize data quality in your project. These\n",
      "  # include Expectations, Validations & Profiles. The are built for all\n",
      "  # Datasources from JSON artifacts in the local repo including validations &\n",
      "  # profiles from the uncommitted directory. Read more at https://docs.greatexpectations.io/docs/terms/data_docs\n",
      "  local_site:\n",
      "    class_name: SiteBuilder\n",
      "    # set to false to hide how-to buttons in Data Docs\n",
      "    show_how_to_buttons: true\n",
      "    store_backend:\n",
      "        class_name: TupleFilesystemStoreBackend\n",
      "        base_directory: uncommitted/data_docs/local_site/\n",
      "    site_index_builder:\n",
      "        class_name: DefaultSiteIndexBuilder\n",
      "\n",
      "anonymous_usage_statistics:\n",
      "  enabled: True\n"
     ]
    }
   ],
   "source": [
    "!cat gx/great_expectations.yml"
   ]
  },
  {
   "cell_type": "code",
   "execution_count": null,
   "id": "29baa0d7",
   "metadata": {},
   "outputs": [],
   "source": [
    "\n",
    "\n"
   ]
  }
 ],
 "metadata": {
  "kernelspec": {
   "display_name": "Python 3 (ipykernel)",
   "language": "python",
   "name": "python3"
  },
  "language_info": {
   "codemirror_mode": {
    "name": "ipython",
    "version": 3
   },
   "file_extension": ".py",
   "mimetype": "text/x-python",
   "name": "python",
   "nbconvert_exporter": "python",
   "pygments_lexer": "ipython3",
   "version": "3.10.12"
  }
 },
 "nbformat": 4,
 "nbformat_minor": 5
}
